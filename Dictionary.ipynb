{
 "cells": [
  {
   "cell_type": "markdown",
   "id": "79a72e45",
   "metadata": {},
   "source": [
    "## Dictionary Basics\n",
    "#### Printing all the keys in a nested dictionary."
   ]
  },
  {
   "cell_type": "code",
   "execution_count": null,
   "id": "884c6769",
   "metadata": {},
   "outputs": [],
   "source": [
    "file={\n",
    "    \"a1\":\"v1\",\n",
    "    \"testlist\":{\n",
    "        \"list1\":[\"1\",\"2\",\"3\",\"4\",\"5\"],\n",
    "        \"dictionarylist\":[\n",
    "            {\"res\":\"stop\"},\n",
    "            {\"res2\":\"start\"}\n",
    "        ]\n",
    "    }\n",
    "}"
   ]
  },
  {
   "cell_type": "code",
   "execution_count": null,
   "id": "a92013be",
   "metadata": {},
   "outputs": [],
   "source": [
    "def res(file):\n",
    "    for key in file:\n",
    "        value=file[key]\n",
    "        if type(value) is dict:\n",
    "            yield(key)\n",
    "            yield from res(value)\n",
    "        elif type(value) is list:\n",
    "            for indexValue in value:\n",
    "                if type(indexValue) is dict:\n",
    "                    yield(key)\n",
    "                    for dict2 in value:\n",
    "                        for key2 in dict2:\n",
    "                            yield(key2)\n",
    "                elif type(indexValue) is str or int:\n",
    "                    yield(key)\n",
    "                    break\n",
    "                break\n",
    "                \n",
    "        elif type(value) is str or int:\n",
    "            yield(key)\n",
    "\n",
    "for key in res(file):\n",
    "    print(key)\n"
   ]
  },
  {
   "cell_type": "code",
   "execution_count": null,
   "id": "7aa3dcd5",
   "metadata": {},
   "outputs": [],
   "source": []
  },
  {
   "cell_type": "code",
   "execution_count": null,
   "id": "f0497476",
   "metadata": {},
   "outputs": [],
   "source": []
  }
 ],
 "metadata": {
  "kernelspec": {
   "display_name": "Python 3",
   "language": "python",
   "name": "python3"
  },
  "language_info": {
   "codemirror_mode": {
    "name": "ipython",
    "version": 3
   },
   "file_extension": ".py",
   "mimetype": "text/x-python",
   "name": "python",
   "nbconvert_exporter": "python",
   "pygments_lexer": "ipython3",
   "version": "3.9.2"
  }
 },
 "nbformat": 4,
 "nbformat_minor": 5
}
